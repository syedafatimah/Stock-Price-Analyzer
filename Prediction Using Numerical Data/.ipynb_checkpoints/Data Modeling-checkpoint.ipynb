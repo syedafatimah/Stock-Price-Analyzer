{
 "cells": [
  {
   "cell_type": "code",
   "execution_count": 1,
   "id": "ef80b939",
   "metadata": {},
   "outputs": [],
   "source": [
    "#import necessary libraries\n",
    "import pandas as pd\n",
    "import numpy as np\n",
    "import matplotlib.pyplot as plt"
   ]
  },
  {
   "cell_type": "code",
   "execution_count": 2,
   "id": "fb06ad1c",
   "metadata": {},
   "outputs": [],
   "source": [
    "df = pd.read_csv('Close_price.csv')"
   ]
  },
  {
   "cell_type": "code",
   "execution_count": 3,
   "id": "946dbceb",
   "metadata": {},
   "outputs": [],
   "source": [
    "#normalize the data\n",
    "from sklearn.preprocessing import MinMaxScaler\n",
    "scaler=MinMaxScaler(feature_range=(0,1))\n",
    "df=scaler.fit_transform(np.array(df).reshape(-1,1))"
   ]
  },
  {
   "cell_type": "code",
   "execution_count": 4,
   "id": "009b9d10",
   "metadata": {},
   "outputs": [
    {
     "data": {
      "text/plain": [
       "array([[0.        ],\n",
       "       [0.95737015],\n",
       "       [0.00444523],\n",
       "       [0.95234708],\n",
       "       [0.00889047],\n",
       "       [0.95288049],\n",
       "       [0.0133357 ],\n",
       "       [0.95256928],\n",
       "       [0.01778094],\n",
       "       [0.9602151 ],\n",
       "       [0.02222617],\n",
       "       [0.9415007 ],\n",
       "       [0.02667141],\n",
       "       [0.9358108 ],\n",
       "       [0.03111664],\n",
       "       [0.9479907 ],\n",
       "       [0.03556188],\n",
       "       [0.95216923],\n",
       "       [0.04000711],\n",
       "       [0.9518581 ],\n",
       "       [0.04445235],\n",
       "       [0.97475103],\n",
       "       [0.04889758],\n",
       "       [0.97537336],\n",
       "       [0.05334281],\n",
       "       [0.97168381],\n",
       "       [0.05778805],\n",
       "       [0.98946475],\n",
       "       [0.06223328],\n",
       "       [0.99546584],\n",
       "       [0.06667852],\n",
       "       [0.98248576],\n",
       "       [0.07112375],\n",
       "       [0.990176  ],\n",
       "       [0.07556899],\n",
       "       [1.        ],\n",
       "       [0.08001422],\n",
       "       [0.9963993 ],\n",
       "       [0.08445946],\n",
       "       [0.98541957],\n",
       "       [0.08890469],\n",
       "       [0.98870906]])"
      ]
     },
     "execution_count": 4,
     "metadata": {},
     "output_type": "execute_result"
    }
   ],
   "source": [
    "df"
   ]
  },
  {
   "cell_type": "code",
   "execution_count": 5,
   "id": "21a64319",
   "metadata": {},
   "outputs": [],
   "source": [
    "##splitting dataset into train and test split\n",
    "training_size=int(len(df)*0.65)\n",
    "test_size=len(df)-training_size\n",
    "train_data,test_data=df[0:training_size,:],df[training_size:len(df),:1]"
   ]
  },
  {
   "cell_type": "code",
   "execution_count": 7,
   "id": "519bec69",
   "metadata": {},
   "outputs": [
    {
     "data": {
      "text/plain": [
       "(27, 15)"
      ]
     },
     "execution_count": 7,
     "metadata": {},
     "output_type": "execute_result"
    }
   ],
   "source": [
    "\n",
    "training_size,test_size"
   ]
  },
  {
   "cell_type": "code",
   "execution_count": 8,
   "id": "fc787ddc",
   "metadata": {},
   "outputs": [
    {
     "data": {
      "text/plain": [
       "array([[0.        ],\n",
       "       [0.95737015],\n",
       "       [0.00444523],\n",
       "       [0.95234708],\n",
       "       [0.00889047],\n",
       "       [0.95288049],\n",
       "       [0.0133357 ],\n",
       "       [0.95256928],\n",
       "       [0.01778094],\n",
       "       [0.9602151 ],\n",
       "       [0.02222617],\n",
       "       [0.9415007 ],\n",
       "       [0.02667141],\n",
       "       [0.9358108 ],\n",
       "       [0.03111664],\n",
       "       [0.9479907 ],\n",
       "       [0.03556188],\n",
       "       [0.95216923],\n",
       "       [0.04000711],\n",
       "       [0.9518581 ],\n",
       "       [0.04445235],\n",
       "       [0.97475103],\n",
       "       [0.04889758],\n",
       "       [0.97537336],\n",
       "       [0.05334281],\n",
       "       [0.97168381],\n",
       "       [0.05778805]])"
      ]
     },
     "execution_count": 8,
     "metadata": {},
     "output_type": "execute_result"
    }
   ],
   "source": [
    "train_data"
   ]
  },
  {
   "cell_type": "code",
   "execution_count": 9,
   "id": "6c5ce2d9",
   "metadata": {},
   "outputs": [
    {
     "data": {
      "text/plain": [
       "array([[0.98946475],\n",
       "       [0.06223328],\n",
       "       [0.99546584],\n",
       "       [0.06667852],\n",
       "       [0.98248576],\n",
       "       [0.07112375],\n",
       "       [0.990176  ],\n",
       "       [0.07556899],\n",
       "       [1.        ],\n",
       "       [0.08001422],\n",
       "       [0.9963993 ],\n",
       "       [0.08445946],\n",
       "       [0.98541957],\n",
       "       [0.08890469],\n",
       "       [0.98870906]])"
      ]
     },
     "execution_count": 9,
     "metadata": {},
     "output_type": "execute_result"
    }
   ],
   "source": [
    "test_data"
   ]
  },
  {
   "cell_type": "code",
   "execution_count": 10,
   "id": "5d95df65",
   "metadata": {},
   "outputs": [],
   "source": [
    "import numpy\n",
    "# convert an array of values into a dataset matrix\n",
    "def create_dataset(dataset, time_step=1):\n",
    "\tdataX, dataY = [], []\n",
    "\tfor i in range(len(dataset)-time_step-1):\n",
    "\t\ta = dataset[i:(i+time_step), 0]   \n",
    "\t\tdataX.append(a)\n",
    "\t\tdataY.append(dataset[i + time_step, 0])\n",
    "\treturn numpy.array(dataX), numpy.array(dataY)"
   ]
  },
  {
   "cell_type": "code",
   "execution_count": 16,
   "id": "8ff495a5",
   "metadata": {},
   "outputs": [],
   "source": [
    "# reshape into x and y train test data\n",
    "time_step = 10\n",
    "X_train, y_train = create_dataset(train_data, time_step)\n",
    "X_test, y_test = create_dataset(test_data, time_step)"
   ]
  },
  {
   "cell_type": "code",
   "execution_count": 17,
   "id": "c7efec46",
   "metadata": {},
   "outputs": [
    {
     "data": {
      "text/plain": [
       "array([[0.        , 0.95737015, 0.00444523, 0.95234708, 0.00889047,\n",
       "        0.95288049, 0.0133357 , 0.95256928, 0.01778094, 0.9602151 ],\n",
       "       [0.95737015, 0.00444523, 0.95234708, 0.00889047, 0.95288049,\n",
       "        0.0133357 , 0.95256928, 0.01778094, 0.9602151 , 0.02222617],\n",
       "       [0.00444523, 0.95234708, 0.00889047, 0.95288049, 0.0133357 ,\n",
       "        0.95256928, 0.01778094, 0.9602151 , 0.02222617, 0.9415007 ],\n",
       "       [0.95234708, 0.00889047, 0.95288049, 0.0133357 , 0.95256928,\n",
       "        0.01778094, 0.9602151 , 0.02222617, 0.9415007 , 0.02667141],\n",
       "       [0.00889047, 0.95288049, 0.0133357 , 0.95256928, 0.01778094,\n",
       "        0.9602151 , 0.02222617, 0.9415007 , 0.02667141, 0.9358108 ],\n",
       "       [0.95288049, 0.0133357 , 0.95256928, 0.01778094, 0.9602151 ,\n",
       "        0.02222617, 0.9415007 , 0.02667141, 0.9358108 , 0.03111664],\n",
       "       [0.0133357 , 0.95256928, 0.01778094, 0.9602151 , 0.02222617,\n",
       "        0.9415007 , 0.02667141, 0.9358108 , 0.03111664, 0.9479907 ],\n",
       "       [0.95256928, 0.01778094, 0.9602151 , 0.02222617, 0.9415007 ,\n",
       "        0.02667141, 0.9358108 , 0.03111664, 0.9479907 , 0.03556188],\n",
       "       [0.01778094, 0.9602151 , 0.02222617, 0.9415007 , 0.02667141,\n",
       "        0.9358108 , 0.03111664, 0.9479907 , 0.03556188, 0.95216923],\n",
       "       [0.9602151 , 0.02222617, 0.9415007 , 0.02667141, 0.9358108 ,\n",
       "        0.03111664, 0.9479907 , 0.03556188, 0.95216923, 0.04000711],\n",
       "       [0.02222617, 0.9415007 , 0.02667141, 0.9358108 , 0.03111664,\n",
       "        0.9479907 , 0.03556188, 0.95216923, 0.04000711, 0.9518581 ],\n",
       "       [0.9415007 , 0.02667141, 0.9358108 , 0.03111664, 0.9479907 ,\n",
       "        0.03556188, 0.95216923, 0.04000711, 0.9518581 , 0.04445235],\n",
       "       [0.02667141, 0.9358108 , 0.03111664, 0.9479907 , 0.03556188,\n",
       "        0.95216923, 0.04000711, 0.9518581 , 0.04445235, 0.97475103],\n",
       "       [0.9358108 , 0.03111664, 0.9479907 , 0.03556188, 0.95216923,\n",
       "        0.04000711, 0.9518581 , 0.04445235, 0.97475103, 0.04889758],\n",
       "       [0.03111664, 0.9479907 , 0.03556188, 0.95216923, 0.04000711,\n",
       "        0.9518581 , 0.04445235, 0.97475103, 0.04889758, 0.97537336],\n",
       "       [0.9479907 , 0.03556188, 0.95216923, 0.04000711, 0.9518581 ,\n",
       "        0.04445235, 0.97475103, 0.04889758, 0.97537336, 0.05334281]])"
      ]
     },
     "execution_count": 17,
     "metadata": {},
     "output_type": "execute_result"
    }
   ],
   "source": [
    "X_train"
   ]
  },
  {
   "cell_type": "code",
   "execution_count": 18,
   "id": "5c6176ad",
   "metadata": {},
   "outputs": [
    {
     "data": {
      "text/plain": [
       "array([0.02222617, 0.9415007 , 0.02667141, 0.9358108 , 0.03111664,\n",
       "       0.9479907 , 0.03556188, 0.95216923, 0.04000711, 0.9518581 ,\n",
       "       0.04445235, 0.97475103, 0.04889758, 0.97537336, 0.05334281,\n",
       "       0.97168381])"
      ]
     },
     "execution_count": 18,
     "metadata": {},
     "output_type": "execute_result"
    }
   ],
   "source": [
    "y_train"
   ]
  },
  {
   "cell_type": "code",
   "execution_count": 19,
   "id": "756c58c9",
   "metadata": {},
   "outputs": [
    {
     "data": {
      "text/plain": [
       "array([[0.98946475, 0.06223328, 0.99546584, 0.06667852, 0.98248576,\n",
       "        0.07112375, 0.990176  , 0.07556899, 1.        , 0.08001422],\n",
       "       [0.06223328, 0.99546584, 0.06667852, 0.98248576, 0.07112375,\n",
       "        0.990176  , 0.07556899, 1.        , 0.08001422, 0.9963993 ],\n",
       "       [0.99546584, 0.06667852, 0.98248576, 0.07112375, 0.990176  ,\n",
       "        0.07556899, 1.        , 0.08001422, 0.9963993 , 0.08445946],\n",
       "       [0.06667852, 0.98248576, 0.07112375, 0.990176  , 0.07556899,\n",
       "        1.        , 0.08001422, 0.9963993 , 0.08445946, 0.98541957]])"
      ]
     },
     "execution_count": 19,
     "metadata": {},
     "output_type": "execute_result"
    }
   ],
   "source": [
    "X_test"
   ]
  },
  {
   "cell_type": "code",
   "execution_count": 20,
   "id": "12d24ef1",
   "metadata": {},
   "outputs": [
    {
     "data": {
      "text/plain": [
       "array([0.9963993 , 0.08445946, 0.98541957, 0.08890469])"
      ]
     },
     "execution_count": 20,
     "metadata": {},
     "output_type": "execute_result"
    }
   ],
   "source": [
    "y_test"
   ]
  },
  {
   "cell_type": "code",
   "execution_count": 21,
   "id": "8cb91cb9",
   "metadata": {},
   "outputs": [
    {
     "name": "stdout",
     "output_type": "stream",
     "text": [
      "(16, 10)\n",
      "(16,)\n"
     ]
    },
    {
     "data": {
      "text/plain": [
       "(None, None)"
      ]
     },
     "execution_count": 21,
     "metadata": {},
     "output_type": "execute_result"
    }
   ],
   "source": [
    "print(X_train.shape), print(y_train.shape)"
   ]
  },
  {
   "cell_type": "code",
   "execution_count": 22,
   "id": "cad062e9",
   "metadata": {},
   "outputs": [
    {
     "name": "stdout",
     "output_type": "stream",
     "text": [
      "(4, 10)\n",
      "(4,)\n"
     ]
    },
    {
     "data": {
      "text/plain": [
       "(None, None)"
      ]
     },
     "execution_count": 22,
     "metadata": {},
     "output_type": "execute_result"
    }
   ],
   "source": [
    "print(X_test.shape), print(y_test.shape)"
   ]
  },
  {
   "cell_type": "code",
   "execution_count": 23,
   "id": "6eb9fd40",
   "metadata": {},
   "outputs": [],
   "source": [
    "# reshape input to be [samples, time steps, features] which is required for LSTM\n",
    "X_train =X_train.reshape(X_train.shape[0],X_train.shape[1] , 1)\n",
    "X_test = X_test.reshape(X_test.shape[0],X_test.shape[1] , 1)"
   ]
  },
  {
   "cell_type": "code",
   "execution_count": 24,
   "id": "f19917dc",
   "metadata": {},
   "outputs": [],
   "source": [
    "### Create the Stacked LSTM model\n",
    "from tensorflow.keras.models import Sequential\n",
    "from tensorflow.keras.layers import Dense\n",
    "from tensorflow.keras.layers import LSTM"
   ]
  },
  {
   "cell_type": "code",
   "execution_count": 25,
   "id": "f493cc5b",
   "metadata": {},
   "outputs": [],
   "source": [
    "model=Sequential()\n",
    "model.add(LSTM(50,return_sequences=True,input_shape=(10,1)))\n",
    "model.add(LSTM(50,return_sequences=True))\n",
    "model.add(LSTM(50))\n",
    "model.add(Dense(1))\n",
    "model.compile(loss='mean_squared_error',optimizer='adam')"
   ]
  },
  {
   "cell_type": "code",
   "execution_count": 26,
   "id": "2a29f017",
   "metadata": {},
   "outputs": [
    {
     "name": "stdout",
     "output_type": "stream",
     "text": [
      "Model: \"sequential\"\n",
      "_________________________________________________________________\n",
      " Layer (type)                Output Shape              Param #   \n",
      "=================================================================\n",
      " lstm (LSTM)                 (None, 10, 50)            10400     \n",
      "                                                                 \n",
      " lstm_1 (LSTM)               (None, 10, 50)            20200     \n",
      "                                                                 \n",
      " lstm_2 (LSTM)               (None, 50)                20200     \n",
      "                                                                 \n",
      " dense (Dense)               (None, 1)                 51        \n",
      "                                                                 \n",
      "=================================================================\n",
      "Total params: 50,851\n",
      "Trainable params: 50,851\n",
      "Non-trainable params: 0\n",
      "_________________________________________________________________\n"
     ]
    }
   ],
   "source": [
    "model.summary()"
   ]
  },
  {
   "cell_type": "code",
   "execution_count": 27,
   "id": "eebaec12",
   "metadata": {},
   "outputs": [
    {
     "name": "stdout",
     "output_type": "stream",
     "text": [
      "Model: \"sequential\"\n",
      "_________________________________________________________________\n",
      " Layer (type)                Output Shape              Param #   \n",
      "=================================================================\n",
      " lstm (LSTM)                 (None, 10, 50)            10400     \n",
      "                                                                 \n",
      " lstm_1 (LSTM)               (None, 10, 50)            20200     \n",
      "                                                                 \n",
      " lstm_2 (LSTM)               (None, 50)                20200     \n",
      "                                                                 \n",
      " dense (Dense)               (None, 1)                 51        \n",
      "                                                                 \n",
      "=================================================================\n",
      "Total params: 50,851\n",
      "Trainable params: 50,851\n",
      "Non-trainable params: 0\n",
      "_________________________________________________________________\n"
     ]
    }
   ],
   "source": [
    "model.summary()"
   ]
  },
  {
   "cell_type": "code",
   "execution_count": 29,
   "id": "396562e9",
   "metadata": {},
   "outputs": [
    {
     "name": "stdout",
     "output_type": "stream",
     "text": [
      "Epoch 1/100\n",
      "1/1 [==============================] - 47s 47s/step - loss: 0.4333 - val_loss: 0.4251\n",
      "Epoch 2/100\n",
      "1/1 [==============================] - 0s 197ms/step - loss: 0.3976 - val_loss: 0.3861\n",
      "Epoch 3/100\n",
      "1/1 [==============================] - 0s 272ms/step - loss: 0.3633 - val_loss: 0.3475\n",
      "Epoch 4/100\n",
      "1/1 [==============================] - 1s 989ms/step - loss: 0.3294 - val_loss: 0.3090\n",
      "Epoch 5/100\n",
      "1/1 [==============================] - 1s 1s/step - loss: 0.2957 - val_loss: 0.2711\n",
      "Epoch 6/100\n",
      "1/1 [==============================] - 1s 590ms/step - loss: 0.2629 - val_loss: 0.2358\n",
      "Epoch 7/100\n",
      "1/1 [==============================] - 0s 382ms/step - loss: 0.2325 - val_loss: 0.2063\n",
      "Epoch 8/100\n",
      "1/1 [==============================] - 0s 261ms/step - loss: 0.2075 - val_loss: 0.1879\n",
      "Epoch 9/100\n",
      "1/1 [==============================] - 0s 260ms/step - loss: 0.1927 - val_loss: 0.1872\n",
      "Epoch 10/100\n",
      "1/1 [==============================] - 0s 200ms/step - loss: 0.1939 - val_loss: 0.2041\n",
      "Epoch 11/100\n",
      "1/1 [==============================] - 0s 220ms/step - loss: 0.2107 - val_loss: 0.2192\n",
      "Epoch 12/100\n",
      "1/1 [==============================] - 1s 524ms/step - loss: 0.2250 - val_loss: 0.2189\n",
      "Epoch 13/100\n",
      "1/1 [==============================] - 0s 207ms/step - loss: 0.2248 - val_loss: 0.2083\n",
      "Epoch 14/100\n",
      "1/1 [==============================] - 0s 146ms/step - loss: 0.2147 - val_loss: 0.1961\n",
      "Epoch 15/100\n",
      "1/1 [==============================] - 1s 571ms/step - loss: 0.2029 - val_loss: 0.1878\n",
      "Epoch 16/100\n",
      "1/1 [==============================] - 0s 269ms/step - loss: 0.1946 - val_loss: 0.1850\n",
      "Epoch 17/100\n",
      "1/1 [==============================] - 0s 247ms/step - loss: 0.1911 - val_loss: 0.1865\n",
      "Epoch 18/100\n",
      "1/1 [==============================] - 0s 189ms/step - loss: 0.1917 - val_loss: 0.1902\n",
      "Epoch 19/100\n",
      "1/1 [==============================] - 0s 132ms/step - loss: 0.1944 - val_loss: 0.1944\n",
      "Epoch 20/100\n",
      "1/1 [==============================] - 0s 325ms/step - loss: 0.1976 - val_loss: 0.1975\n",
      "Epoch 21/100\n",
      "1/1 [==============================] - 0s 140ms/step - loss: 0.2002 - val_loss: 0.1991\n",
      "Epoch 22/100\n",
      "1/1 [==============================] - 0s 161ms/step - loss: 0.2015 - val_loss: 0.1989\n",
      "Epoch 23/100\n",
      "1/1 [==============================] - 0s 118ms/step - loss: 0.2013 - val_loss: 0.1971\n",
      "Epoch 24/100\n",
      "1/1 [==============================] - 0s 179ms/step - loss: 0.1998 - val_loss: 0.1942\n",
      "Epoch 25/100\n",
      "1/1 [==============================] - 0s 151ms/step - loss: 0.1973 - val_loss: 0.1906\n",
      "Epoch 26/100\n",
      "1/1 [==============================] - 0s 102ms/step - loss: 0.1944 - val_loss: 0.1871\n",
      "Epoch 27/100\n",
      "1/1 [==============================] - 0s 176ms/step - loss: 0.1916 - val_loss: 0.1843\n",
      "Epoch 28/100\n",
      "1/1 [==============================] - 0s 321ms/step - loss: 0.1895 - val_loss: 0.1826\n",
      "Epoch 29/100\n",
      "1/1 [==============================] - 0s 128ms/step - loss: 0.1883 - val_loss: 0.1822\n",
      "Epoch 30/100\n",
      "1/1 [==============================] - 0s 112ms/step - loss: 0.1882 - val_loss: 0.1828\n",
      "Epoch 31/100\n",
      "1/1 [==============================] - 0s 163ms/step - loss: 0.1888 - val_loss: 0.1836\n",
      "Epoch 32/100\n",
      "1/1 [==============================] - 0s 109ms/step - loss: 0.1897 - val_loss: 0.1841\n",
      "Epoch 33/100\n",
      "1/1 [==============================] - 0s 196ms/step - loss: 0.1901 - val_loss: 0.1837\n",
      "Epoch 34/100\n",
      "1/1 [==============================] - 0s 169ms/step - loss: 0.1896 - val_loss: 0.1825\n",
      "Epoch 35/100\n",
      "1/1 [==============================] - 0s 98ms/step - loss: 0.1882 - val_loss: 0.1807\n",
      "Epoch 36/100\n",
      "1/1 [==============================] - 0s 129ms/step - loss: 0.1864 - val_loss: 0.1790\n",
      "Epoch 37/100\n",
      "1/1 [==============================] - 0s 119ms/step - loss: 0.1847 - val_loss: 0.1778\n",
      "Epoch 38/100\n",
      "1/1 [==============================] - 0s 218ms/step - loss: 0.1833 - val_loss: 0.1772\n",
      "Epoch 39/100\n",
      "1/1 [==============================] - 0s 135ms/step - loss: 0.1825 - val_loss: 0.1769\n",
      "Epoch 40/100\n",
      "1/1 [==============================] - 0s 109ms/step - loss: 0.1821 - val_loss: 0.1767\n",
      "Epoch 41/100\n",
      "1/1 [==============================] - 0s 156ms/step - loss: 0.1818 - val_loss: 0.1763\n",
      "Epoch 42/100\n",
      "1/1 [==============================] - 0s 222ms/step - loss: 0.1813 - val_loss: 0.1754\n",
      "Epoch 43/100\n",
      "1/1 [==============================] - 0s 127ms/step - loss: 0.1804 - val_loss: 0.1741\n",
      "Epoch 44/100\n",
      "1/1 [==============================] - 0s 125ms/step - loss: 0.1791 - val_loss: 0.1724\n",
      "Epoch 45/100\n",
      "1/1 [==============================] - 0s 104ms/step - loss: 0.1775 - val_loss: 0.1706\n",
      "Epoch 46/100\n",
      "1/1 [==============================] - 0s 293ms/step - loss: 0.1756 - val_loss: 0.1690\n",
      "Epoch 47/100\n",
      "1/1 [==============================] - 0s 125ms/step - loss: 0.1739 - val_loss: 0.1676\n",
      "Epoch 48/100\n",
      "1/1 [==============================] - 0s 82ms/step - loss: 0.1722 - val_loss: 0.1666\n",
      "Epoch 49/100\n",
      "1/1 [==============================] - 0s 150ms/step - loss: 0.1708 - val_loss: 0.1656\n",
      "Epoch 50/100\n",
      "1/1 [==============================] - 0s 98ms/step - loss: 0.1693 - val_loss: 0.1641\n",
      "Epoch 51/100\n",
      "1/1 [==============================] - 0s 252ms/step - loss: 0.1674 - val_loss: 0.1620\n",
      "Epoch 52/100\n",
      "1/1 [==============================] - 0s 144ms/step - loss: 0.1650 - val_loss: 0.1592\n",
      "Epoch 53/100\n",
      "1/1 [==============================] - 0s 102ms/step - loss: 0.1621 - val_loss: 0.1560\n",
      "Epoch 54/100\n",
      "1/1 [==============================] - 0s 95ms/step - loss: 0.1590 - val_loss: 0.1526\n",
      "Epoch 55/100\n",
      "1/1 [==============================] - 0s 95ms/step - loss: 0.1557 - val_loss: 0.1490\n",
      "Epoch 56/100\n",
      "1/1 [==============================] - 0s 86ms/step - loss: 0.1523 - val_loss: 0.1451\n",
      "Epoch 57/100\n",
      "1/1 [==============================] - 0s 93ms/step - loss: 0.1485 - val_loss: 0.1409\n",
      "Epoch 58/100\n",
      "1/1 [==============================] - 0s 136ms/step - loss: 0.1440 - val_loss: 0.1362\n",
      "Epoch 59/100\n",
      "1/1 [==============================] - 0s 86ms/step - loss: 0.1385 - val_loss: 0.1314\n",
      "Epoch 60/100\n",
      "1/1 [==============================] - 0s 79ms/step - loss: 0.1321 - val_loss: 0.1268\n",
      "Epoch 61/100\n",
      "1/1 [==============================] - 0s 82ms/step - loss: 0.1249 - val_loss: 0.1218\n",
      "Epoch 62/100\n",
      "1/1 [==============================] - 0s 90ms/step - loss: 0.1169 - val_loss: 0.1150\n",
      "Epoch 63/100\n",
      "1/1 [==============================] - 0s 91ms/step - loss: 0.1075 - val_loss: 0.1052\n",
      "Epoch 64/100\n",
      "1/1 [==============================] - 0s 79ms/step - loss: 0.0963 - val_loss: 0.0926\n",
      "Epoch 65/100\n",
      "1/1 [==============================] - 0s 117ms/step - loss: 0.0836 - val_loss: 0.0790\n",
      "Epoch 66/100\n",
      "1/1 [==============================] - 0s 115ms/step - loss: 0.0697 - val_loss: 0.0671\n",
      "Epoch 67/100\n",
      "1/1 [==============================] - 0s 93ms/step - loss: 0.0542 - val_loss: 0.0616\n",
      "Epoch 68/100\n",
      "1/1 [==============================] - 0s 84ms/step - loss: 0.0374 - val_loss: 0.0635\n",
      "Epoch 69/100\n",
      "1/1 [==============================] - 0s 112ms/step - loss: 0.0219 - val_loss: 0.0587\n",
      "Epoch 70/100\n",
      "1/1 [==============================] - 0s 94ms/step - loss: 0.0086 - val_loss: 0.0479\n",
      "Epoch 71/100\n",
      "1/1 [==============================] - 0s 90ms/step - loss: 0.0016 - val_loss: 0.0813\n",
      "Epoch 72/100\n",
      "1/1 [==============================] - 0s 99ms/step - loss: 0.0018 - val_loss: 0.1087\n",
      "Epoch 73/100\n",
      "1/1 [==============================] - 0s 105ms/step - loss: 0.0099 - val_loss: 0.0976\n",
      "Epoch 74/100\n",
      "1/1 [==============================] - 0s 84ms/step - loss: 0.0217 - val_loss: 0.2121\n",
      "Epoch 75/100\n",
      "1/1 [==============================] - 0s 95ms/step - loss: 0.0332 - val_loss: 0.0739\n",
      "Epoch 76/100\n",
      "1/1 [==============================] - 0s 111ms/step - loss: 0.0359 - val_loss: 0.1202\n",
      "Epoch 77/100\n",
      "1/1 [==============================] - 0s 83ms/step - loss: 0.0224 - val_loss: 0.1968\n",
      "Epoch 78/100\n",
      "1/1 [==============================] - 0s 87ms/step - loss: 0.0232 - val_loss: 0.0951\n",
      "Epoch 79/100\n",
      "1/1 [==============================] - 0s 98ms/step - loss: 0.0093 - val_loss: 0.0460\n",
      "Epoch 80/100\n",
      "1/1 [==============================] - 0s 101ms/step - loss: 0.0094 - val_loss: 0.0636\n",
      "Epoch 81/100\n",
      "1/1 [==============================] - 0s 90ms/step - loss: 0.0020 - val_loss: 0.1055\n",
      "Epoch 82/100\n",
      "1/1 [==============================] - 0s 99ms/step - loss: 0.0026 - val_loss: 0.0968\n",
      "Epoch 83/100\n"
     ]
    },
    {
     "name": "stdout",
     "output_type": "stream",
     "text": [
      "1/1 [==============================] - 0s 99ms/step - loss: 0.0026 - val_loss: 0.0567\n",
      "Epoch 84/100\n",
      "1/1 [==============================] - 0s 103ms/step - loss: 0.0019 - val_loss: 0.0379\n",
      "Epoch 85/100\n",
      "1/1 [==============================] - 0s 103ms/step - loss: 0.0053 - val_loss: 0.0432\n",
      "Epoch 86/100\n",
      "1/1 [==============================] - 0s 102ms/step - loss: 0.0057 - val_loss: 0.0644\n",
      "Epoch 87/100\n",
      "1/1 [==============================] - 0s 103ms/step - loss: 0.0058 - val_loss: 0.0819\n",
      "Epoch 88/100\n",
      "1/1 [==============================] - 0s 100ms/step - loss: 0.0079 - val_loss: 0.0745\n",
      "Epoch 89/100\n",
      "1/1 [==============================] - 0s 103ms/step - loss: 0.0074 - val_loss: 0.0545\n",
      "Epoch 90/100\n",
      "1/1 [==============================] - 0s 105ms/step - loss: 0.0066 - val_loss: 0.0435\n",
      "Epoch 91/100\n",
      "1/1 [==============================] - 0s 103ms/step - loss: 0.0069 - val_loss: 0.0478\n",
      "Epoch 92/100\n",
      "1/1 [==============================] - 0s 105ms/step - loss: 0.0056 - val_loss: 0.0653\n",
      "Epoch 93/100\n",
      "1/1 [==============================] - 0s 109ms/step - loss: 0.0041 - val_loss: 0.0808\n",
      "Epoch 94/100\n",
      "1/1 [==============================] - 0s 113ms/step - loss: 0.0039 - val_loss: 0.0752\n",
      "Epoch 95/100\n",
      "1/1 [==============================] - 0s 86ms/step - loss: 0.0024 - val_loss: 0.0585\n",
      "Epoch 96/100\n",
      "1/1 [==============================] - 0s 119ms/step - loss: 0.0014 - val_loss: 0.0529\n",
      "Epoch 97/100\n",
      "1/1 [==============================] - 0s 106ms/step - loss: 0.0014 - val_loss: 0.0661\n",
      "Epoch 98/100\n",
      "1/1 [==============================] - 0s 93ms/step - loss: 4.6685e-04 - val_loss: 0.0879\n",
      "Epoch 99/100\n",
      "1/1 [==============================] - 0s 78ms/step - loss: 7.2260e-04 - val_loss: 0.0909\n",
      "Epoch 100/100\n",
      "1/1 [==============================] - 0s 95ms/step - loss: 8.6789e-04 - val_loss: 0.0747\n"
     ]
    },
    {
     "data": {
      "text/plain": [
       "<keras.callbacks.History at 0x27c68fb4220>"
      ]
     },
     "execution_count": 29,
     "metadata": {},
     "output_type": "execute_result"
    }
   ],
   "source": [
    "model.fit(X_train,y_train,validation_data=(X_test,ytest),epochs=100,batch_size=64,verbose=1)"
   ]
  },
  {
   "cell_type": "code",
   "execution_count": 30,
   "id": "e23a047a",
   "metadata": {},
   "outputs": [],
   "source": [
    "import tensorflow as tf"
   ]
  },
  {
   "cell_type": "code",
   "execution_count": 31,
   "id": "69b45bb1",
   "metadata": {},
   "outputs": [
    {
     "name": "stdout",
     "output_type": "stream",
     "text": [
      "1/1 [==============================] - 6s 6s/step\n",
      "1/1 [==============================] - 0s 75ms/step\n"
     ]
    }
   ],
   "source": [
    "### Lets Do the prediction and check performance metrics\n",
    "train_predict=model.predict(X_train)\n",
    "test_predict=model.predict(X_test)\n"
   ]
  },
  {
   "cell_type": "code",
   "execution_count": 32,
   "id": "654c33d6",
   "metadata": {},
   "outputs": [],
   "source": [
    "##Transformback to original form\n",
    "train_predict=scaler.inverse_transform(train_predict)\n",
    "test_predict=scaler.inverse_transform(test_predict)\n"
   ]
  },
  {
   "cell_type": "code",
   "execution_count": 33,
   "id": "85d94ca1",
   "metadata": {},
   "outputs": [
    {
     "data": {
      "text/plain": [
       "151.2482069535658"
      ]
     },
     "execution_count": 33,
     "metadata": {},
     "output_type": "execute_result"
    }
   ],
   "source": [
    "### Calculate RMSE performance metrics\n",
    "import math\n",
    "from sklearn.metrics import mean_squared_error\n",
    "math.sqrt(mean_squared_error(y_train,train_predict))\n"
   ]
  },
  {
   "cell_type": "code",
   "execution_count": 34,
   "id": "5158b661",
   "metadata": {},
   "outputs": [
    {
     "data": {
      "text/plain": [
       "217.357994190844"
      ]
     },
     "execution_count": 34,
     "metadata": {},
     "output_type": "execute_result"
    }
   ],
   "source": [
    "### Test Data RMSE\n",
    "math.sqrt(mean_squared_error(ytest,test_predict))"
   ]
  },
  {
   "cell_type": "code",
   "execution_count": 35,
   "id": "f0623971",
   "metadata": {},
   "outputs": [
    {
     "data": {
      "image/png": "[encoded data removed]",
      "text/plain": [
       "<Figure size 432x288 with 1 Axes>"
      ]
     },
     "metadata": {
      "needs_background": "light"
     },
     "output_type": "display_data"
    }
   ],
   "source": [
    "### Plotting \n",
    "# shift train predictions for plotting\n",
    "look_back=10\n",
    "trainPredictPlot = numpy.empty_like(df)\n",
    "trainPredictPlot[:, :] = np.nan\n",
    "trainPredictPlot[look_back:len(train_predict)+look_back, :] = train_predict\n",
    "\n",
    "# shift test predictions for plotting\n",
    "testPredictPlot = numpy.empty_like(df)\n",
    "testPredictPlot[:, :] = np.nan\n",
    "testPredictPlot[len(train_predict)+(look_back*2)+1:len(df)-1, :] = test_predict\n",
    "\n",
    "# plot baseline and predictions\n",
    "plt.plot(scaler.inverse_transform(df))\n",
    "plt.plot(trainPredictPlot)\n",
    "plt.plot(testPredictPlot)\n",
    "plt.show()"
   ]
  },
  {
   "cell_type": "code",
   "execution_count": 36,
   "id": "35cc6f28",
   "metadata": {},
   "outputs": [
    {
     "data": {
      "text/plain": [
       "15"
      ]
     },
     "execution_count": 36,
     "metadata": {},
     "output_type": "execute_result"
    }
   ],
   "source": [
    "len(test_data)"
   ]
  },
  {
   "cell_type": "code",
   "execution_count": 37,
   "id": "8fe2f3e4",
   "metadata": {},
   "outputs": [
    {
     "data": {
      "text/plain": [
       "(1, 10)"
      ]
     },
     "execution_count": 37,
     "metadata": {},
     "output_type": "execute_result"
    }
   ],
   "source": [
    "x_input=test_data[5:].reshape(1,-1)\n",
    "x_input.shape"
   ]
  },
  {
   "cell_type": "code",
   "execution_count": 38,
   "id": "512e72ef",
   "metadata": {},
   "outputs": [],
   "source": [
    "temp_input=list(x_input)\n",
    "temp_input=temp_input[0].tolist()"
   ]
  },
  {
   "cell_type": "code",
   "execution_count": 39,
   "id": "c5c7dfa2",
   "metadata": {},
   "outputs": [
    {
     "data": {
      "text/plain": [
       "[0.07112375312114923,\n",
       " 0.9901760004834994,\n",
       " 0.07556898769122106,\n",
       " 1.0,\n",
       " 0.08001422226129289,\n",
       " 0.9963993022101925,\n",
       " 0.0844594568313647,\n",
       " 0.9854195683768805,\n",
       " 0.08890469140143653,\n",
       " 0.9887090641849066]"
      ]
     },
     "execution_count": 39,
     "metadata": {},
     "output_type": "execute_result"
    }
   ],
   "source": [
    "temp_input"
   ]
  },
  {
   "cell_type": "code",
   "execution_count": 41,
   "id": "cb217e72",
   "metadata": {},
   "outputs": [
    {
     "name": "stdout",
     "output_type": "stream",
     "text": [
      "0 day input [5.5002141  5.52198124 5.51877117 5.53157425 5.53176165 5.5374217\n",
      " 5.53807497 5.54012012 5.54045391 5.54114056]\n",
      "0 day output [[5.541218]]\n",
      "1 day input [5.52198124 5.51877117 5.53157425 5.53176165 5.5374217  5.53807497\n",
      " 5.54012012 5.54045391 5.54114056 5.5412178 ]\n",
      "1 day output [[5.541379]]\n",
      "2 day input [5.51877117 5.53157425 5.53176165 5.5374217  5.53807497 5.54012012\n",
      " 5.54045391 5.54114056 5.5412178  5.54137897]\n",
      "2 day output [[5.541378]]\n",
      "3 day input [5.53157425 5.53176165 5.5374217  5.53807497 5.54012012 5.54045391\n",
      " 5.54114056 5.5412178  5.54137897 5.54137802]\n",
      "3 day output [[5.5414796]]\n",
      "4 day input [5.53176165 5.5374217  5.53807497 5.54012012 5.54045391 5.54114056\n",
      " 5.5412178  5.54137897 5.54137802 5.54147959]\n",
      "4 day output [[5.5414925]]\n",
      "[[5.541217803955078], [5.541378974914551], [5.541378021240234], [5.541479587554932], [5.541492462158203]]\n"
     ]
    }
   ],
   "source": [
    "# demonstrate prediction for next 5 days\n",
    "from numpy import array\n",
    "\n",
    "lst_output=[]\n",
    "n_steps=10\n",
    "i=0\n",
    "while(i<5):\n",
    "    \n",
    "    if(len(temp_input)>10):\n",
    "        #print(temp_input)\n",
    "        x_input=np.array(temp_input[1:])\n",
    "        print(\"{} day input {}\".format(i,x_input))\n",
    "        x_input=x_input.reshape(1,-1)\n",
    "        x_input = x_input.reshape((1, n_steps, 1))\n",
    "        #print(x_input)\n",
    "        yhat = model.predict(x_input, verbose=0)\n",
    "        print(\"{} day output {}\".format(i,yhat))\n",
    "        temp_input.extend(yhat[0].tolist())\n",
    "        temp_input=temp_input[1:]\n",
    "        #print(temp_input)\n",
    "        lst_output.extend(yhat.tolist())\n",
    "        i=i+1\n",
    "    else:\n",
    "        x_input = x_input.reshape((1, n_steps,1))\n",
    "        yhat = model.predict(x_input, verbose=0)\n",
    "        print(yhat[0])\n",
    "        temp_input.extend(yhat[0].tolist())\n",
    "        print(len(temp_input))\n",
    "        lst_output.extend(yhat.tolist())\n",
    "        i=i+1\n",
    "    \n",
    "\n",
    "print(lst_output)"
   ]
  },
  {
   "cell_type": "code",
   "execution_count": 42,
   "id": "c7ea1f72",
   "metadata": {},
   "outputs": [],
   "source": [
    "day_new=np.arange(1,11)\n",
    "day_pred=np.arange(11,16)"
   ]
  },
  {
   "cell_type": "code",
   "execution_count": 44,
   "id": "93dab925",
   "metadata": {},
   "outputs": [
    {
     "data": {
      "text/plain": [
       "42"
      ]
     },
     "execution_count": 44,
     "metadata": {},
     "output_type": "execute_result"
    }
   ],
   "source": [
    "len(df)"
   ]
  },
  {
   "cell_type": "code",
   "execution_count": 45,
   "id": "8d284bab",
   "metadata": {},
   "outputs": [
    {
     "data": {
      "text/plain": [
       "[<matplotlib.lines.Line2D at 0x27c74ed1030>]"
      ]
     },
     "execution_count": 45,
     "metadata": {},
     "output_type": "execute_result"
    },
    {
     "data": {
      "image/png": "[encoded data removed]",
      "text/plain": [
       "<Figure size 432x288 with 1 Axes>"
      ]
     },
     "metadata": {
      "needs_background": "light"
     },
     "output_type": "display_data"
    }
   ],
   "source": [
    "plt.plot(day_new,scaler.inverse_transform(df[32:]))\n",
    "plt.plot(day_pred,scaler.inverse_transform(lst_output))"
   ]
  },
  {
   "cell_type": "code",
   "execution_count": 47,
   "id": "821df596",
   "metadata": {},
   "outputs": [
    {
     "data": {
      "text/plain": [
       "[<matplotlib.lines.Line2D at 0x27c74f357e0>]"
      ]
     },
     "execution_count": 47,
     "metadata": {},
     "output_type": "execute_result"
    },
    {
     "data": {
      "image/png": "[encoded data removed]",
      "text/plain": [
       "<Figure size 432x288 with 1 Axes>"
      ]
     },
     "metadata": {
      "needs_background": "light"
     },
     "output_type": "display_data"
    }
   ],
   "source": [
    "df3=df.tolist()\n",
    "df3.extend(lst_output)\n",
    "plt.plot(df3[10:])"
   ]
  },
  {
   "cell_type": "code",
   "execution_count": 48,
   "id": "37589a8f",
   "metadata": {},
   "outputs": [
    {
     "data": {
      "text/plain": [
       "[<matplotlib.lines.Line2D at 0x27c74fcc6d0>]"
      ]
     },
     "execution_count": 48,
     "metadata": {},
     "output_type": "execute_result"
    },
    {
     "data": {
      "image/png": "[encoded data removed]",
      "text/plain": [
       "<Figure size 432x288 with 1 Axes>"
      ]
     },
     "metadata": {
      "needs_background": "light"
     },
     "output_type": "display_data"
    }
   ],
   "source": [
    "df3=scaler.inverse_transform(df3).tolist()\n",
    "plt.plot(df3)"
   ]
  },
  {
   "cell_type": "markdown",
   "id": "4d036a69",
   "metadata": {},
   "source": [
    "#### Visualization showing that prices will be high for the next 5 days"
   ]
  },
  {
   "cell_type": "code",
   "execution_count": null,
   "id": "cac7f262",
   "metadata": {},
   "outputs": [],
   "source": []
  }
 ],
 "metadata": {
  "kernelspec": {
   "display_name": "Python 3 (ipykernel)",
   "language": "python",
   "name": "python3"
  },
  "language_info": {
   "codemirror_mode": {
    "name": "ipython",
    "version": 3
   },
   "file_extension": ".py",
   "mimetype": "text/x-python",
   "name": "python",
   "nbconvert_exporter": "python",
   "pygments_lexer": "ipython3",
   "version": "3.10.5"
  }
 },
 "nbformat": 4,
 "nbformat_minor": 5
}
