{
 "cells": [
  {
   "cell_type": "code",
   "execution_count": 9,
   "id": "ec22153e",
   "metadata": {},
   "outputs": [],
   "source": [
    "#import necessary libraries\n",
    "import pandas as pd\n",
    "import matplotlib.pyplot as plt"
   ]
  },
  {
   "cell_type": "code",
   "execution_count": 10,
   "id": "e8650dd0",
   "metadata": {},
   "outputs": [],
   "source": [
    "data = pd.read_csv('MSFT.csv')"
   ]
  },
  {
   "cell_type": "code",
   "execution_count": 11,
   "id": "58fb437f",
   "metadata": {},
   "outputs": [
    {
     "data": {
      "text/html": [
       "<div>\n",
       "<style scoped>\n",
       "    .dataframe tbody tr th:only-of-type {\n",
       "        vertical-align: middle;\n",
       "    }\n",
       "\n",
       "    .dataframe tbody tr th {\n",
       "        vertical-align: top;\n",
       "    }\n",
       "\n",
       "    .dataframe thead th {\n",
       "        text-align: right;\n",
       "    }\n",
       "</style>\n",
       "<table border=\"1\" class=\"dataframe\">\n",
       "  <thead>\n",
       "    <tr style=\"text-align: right;\">\n",
       "      <th></th>\n",
       "      <th>Unnamed: 0</th>\n",
       "      <th>Date</th>\n",
       "      <th>Open</th>\n",
       "      <th>High</th>\n",
       "      <th>Low</th>\n",
       "      <th>Close</th>\n",
       "      <th>Adj Close</th>\n",
       "      <th>Volume</th>\n",
       "    </tr>\n",
       "  </thead>\n",
       "  <tbody>\n",
       "    <tr>\n",
       "      <th>0</th>\n",
       "      <td>0</td>\n",
       "      <td>2020-12-02</td>\n",
       "      <td>214.880005</td>\n",
       "      <td>215.470001</td>\n",
       "      <td>212.800003</td>\n",
       "      <td>215.369995</td>\n",
       "      <td>212.643707</td>\n",
       "      <td>23724500</td>\n",
       "    </tr>\n",
       "    <tr>\n",
       "      <th>1</th>\n",
       "      <td>1</td>\n",
       "      <td>2020-12-03</td>\n",
       "      <td>214.610001</td>\n",
       "      <td>216.380005</td>\n",
       "      <td>213.649994</td>\n",
       "      <td>214.240005</td>\n",
       "      <td>211.528046</td>\n",
       "      <td>25120900</td>\n",
       "    </tr>\n",
       "    <tr>\n",
       "      <th>2</th>\n",
       "      <td>2</td>\n",
       "      <td>2020-12-04</td>\n",
       "      <td>214.220001</td>\n",
       "      <td>215.380005</td>\n",
       "      <td>213.179993</td>\n",
       "      <td>214.360001</td>\n",
       "      <td>211.646500</td>\n",
       "      <td>24666000</td>\n",
       "    </tr>\n",
       "    <tr>\n",
       "      <th>3</th>\n",
       "      <td>3</td>\n",
       "      <td>2020-12-07</td>\n",
       "      <td>214.369995</td>\n",
       "      <td>215.539993</td>\n",
       "      <td>212.990005</td>\n",
       "      <td>214.289993</td>\n",
       "      <td>211.577393</td>\n",
       "      <td>24620000</td>\n",
       "    </tr>\n",
       "    <tr>\n",
       "      <th>4</th>\n",
       "      <td>4</td>\n",
       "      <td>2020-12-08</td>\n",
       "      <td>213.970001</td>\n",
       "      <td>216.949997</td>\n",
       "      <td>212.889999</td>\n",
       "      <td>216.009995</td>\n",
       "      <td>213.275620</td>\n",
       "      <td>23284100</td>\n",
       "    </tr>\n",
       "  </tbody>\n",
       "</table>\n",
       "</div>"
      ],
      "text/plain": [
       "   Unnamed: 0        Date        Open        High         Low       Close  \\\n",
       "0           0  2020-12-02  214.880005  215.470001  212.800003  215.369995   \n",
       "1           1  2020-12-03  214.610001  216.380005  213.649994  214.240005   \n",
       "2           2  2020-12-04  214.220001  215.380005  213.179993  214.360001   \n",
       "3           3  2020-12-07  214.369995  215.539993  212.990005  214.289993   \n",
       "4           4  2020-12-08  213.970001  216.949997  212.889999  216.009995   \n",
       "\n",
       "    Adj Close    Volume  \n",
       "0  212.643707  23724500  \n",
       "1  211.528046  25120900  \n",
       "2  211.646500  24666000  \n",
       "3  211.577393  24620000  \n",
       "4  213.275620  23284100  "
      ]
     },
     "execution_count": 11,
     "metadata": {},
     "output_type": "execute_result"
    }
   ],
   "source": [
    "data.head()"
   ]
  },
  {
   "cell_type": "code",
   "execution_count": 12,
   "id": "0a8c44dd",
   "metadata": {},
   "outputs": [],
   "source": [
    "#Set close as index\n",
    "data2=data.reset_index()['Close']"
   ]
  },
  {
   "cell_type": "code",
   "execution_count": 13,
   "id": "5aee1b09",
   "metadata": {},
   "outputs": [
    {
     "data": {
      "text/plain": [
       "0    215.369995\n",
       "1    214.240005\n",
       "2    214.360001\n",
       "3    214.289993\n",
       "4    216.009995\n",
       "Name: Close, dtype: float64"
      ]
     },
     "execution_count": 13,
     "metadata": {},
     "output_type": "execute_result"
    }
   ],
   "source": [
    "#As we will do prediction on the Basis of close price\n",
    "data2.head()"
   ]
  },
  {
   "cell_type": "code",
   "execution_count": 14,
   "id": "09e769d9",
   "metadata": {},
   "outputs": [
    {
     "data": {
      "text/plain": [
       "[<matplotlib.lines.Line2D at 0x18999b00970>]"
      ]
     },
     "execution_count": 14,
     "metadata": {},
     "output_type": "execute_result"
    },
    {
     "data": {
      "image/png": "[encoded data removed]",
      "text/plain": [
       "<Figure size 432x288 with 1 Axes>"
      ]
     },
     "metadata": {
      "needs_background": "light"
     },
     "output_type": "display_data"
    }
   ],
   "source": [
    "plt.plot(data2)"
   ]
  },
  {
   "cell_type": "code",
   "execution_count": 15,
   "id": "8df4ccf8",
   "metadata": {},
   "outputs": [],
   "source": [
    "data2.to_csv('Close_price.csv')"
   ]
  },
  {
   "cell_type": "code",
   "execution_count": null,
   "id": "f52fbf6d",
   "metadata": {},
   "outputs": [],
   "source": []
  }
 ],
 "metadata": {
  "kernelspec": {
   "display_name": "Python 3 (ipykernel)",
   "language": "python",
   "name": "python3"
  },
  "language_info": {
   "codemirror_mode": {
    "name": "ipython",
    "version": 3
   },
   "file_extension": ".py",
   "mimetype": "text/x-python",
   "name": "python",
   "nbconvert_exporter": "python",
   "pygments_lexer": "ipython3",
   "version": "3.10.5"
  }
 },
 "nbformat": 4,
 "nbformat_minor": 5
}
