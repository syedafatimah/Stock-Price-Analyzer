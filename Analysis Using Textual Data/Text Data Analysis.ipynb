{
 "cells": [
  {
   "cell_type": "code",
   "execution_count": 1,
   "id": "8082399e",
   "metadata": {},
   "outputs": [],
   "source": [
    "#import necessary libraries\n",
    "import os\n",
    "import warnings\n",
    "warnings.filterwarnings('ignore')\n",
    "import pandas as pd\n",
    "import numpy as np\n",
    "import matplotlib.pyplot as plt"
   ]
  },
  {
   "cell_type": "code",
   "execution_count": 2,
   "id": "c3d82c39",
   "metadata": {},
   "outputs": [
    {
     "name": "stderr",
     "output_type": "stream",
     "text": [
      "[nltk_data] Downloading package stopwords to\n",
      "[nltk_data]     C:\\Users\\KNA\\AppData\\Roaming\\nltk_data...\n",
      "[nltk_data]   Package stopwords is already up-to-date!\n",
      "[nltk_data] Downloading package vader_lexicon to\n",
      "[nltk_data]     C:\\Users\\KNA\\AppData\\Roaming\\nltk_data...\n",
      "[nltk_data]   Package vader_lexicon is already up-to-date!\n"
     ]
    }
   ],
   "source": [
    "import nltk\n",
    "import re\n",
    "from nltk.corpus import stopwords\n",
    "nltk.download('stopwords')\n",
    "nltk.download('vader_lexicon')\n",
    "from textblob import TextBlob\n",
    "from nltk.sentiment.vader import SentimentIntensityAnalyzer\n",
    "from nltk.stem.porter import PorterStemmer"
   ]
  },
  {
   "cell_type": "code",
   "execution_count": 3,
   "id": "fad6fa98",
   "metadata": {},
   "outputs": [],
   "source": [
    "cols = ['Date','Category','News']\n",
    "data = pd.read_csv('News Headline.csv', names = cols)"
   ]
  },
  {
   "cell_type": "code",
   "execution_count": 4,
   "id": "b8255846",
   "metadata": {},
   "outputs": [
    {
     "data": {
      "text/html": [
       "<div>\n",
       "<style scoped>\n",
       "    .dataframe tbody tr th:only-of-type {\n",
       "        vertical-align: middle;\n",
       "    }\n",
       "\n",
       "    .dataframe tbody tr th {\n",
       "        vertical-align: top;\n",
       "    }\n",
       "\n",
       "    .dataframe thead th {\n",
       "        text-align: right;\n",
       "    }\n",
       "</style>\n",
       "<table border=\"1\" class=\"dataframe\">\n",
       "  <thead>\n",
       "    <tr style=\"text-align: right;\">\n",
       "      <th></th>\n",
       "      <th>Date</th>\n",
       "      <th>Category</th>\n",
       "      <th>News</th>\n",
       "    </tr>\n",
       "  </thead>\n",
       "  <tbody>\n",
       "    <tr>\n",
       "      <th>0</th>\n",
       "      <td>publish_date</td>\n",
       "      <td>headline_category</td>\n",
       "      <td>headline_text</td>\n",
       "    </tr>\n",
       "    <tr>\n",
       "      <th>1</th>\n",
       "      <td>20010720</td>\n",
       "      <td>city.delhi</td>\n",
       "      <td>Adulterated oil seized; three held</td>\n",
       "    </tr>\n",
       "    <tr>\n",
       "      <th>2</th>\n",
       "      <td>20010720</td>\n",
       "      <td>city.mumbai</td>\n",
       "      <td>Chicken lickin' delicious</td>\n",
       "    </tr>\n",
       "    <tr>\n",
       "      <th>3</th>\n",
       "      <td>20010720</td>\n",
       "      <td>city.ahmedabad</td>\n",
       "      <td>Silver corridor faces hazy future</td>\n",
       "    </tr>\n",
       "    <tr>\n",
       "      <th>4</th>\n",
       "      <td>20010720</td>\n",
       "      <td>city.hyderabad</td>\n",
       "      <td>Centre okays six power projects for state</td>\n",
       "    </tr>\n",
       "  </tbody>\n",
       "</table>\n",
       "</div>"
      ],
      "text/plain": [
       "           Date           Category                                       News\n",
       "0  publish_date  headline_category                              headline_text\n",
       "1      20010720         city.delhi         Adulterated oil seized; three held\n",
       "2      20010720        city.mumbai                  Chicken lickin' delicious\n",
       "3      20010720     city.ahmedabad          Silver corridor faces hazy future\n",
       "4      20010720     city.hyderabad  Centre okays six power projects for state"
      ]
     },
     "execution_count": 4,
     "metadata": {},
     "output_type": "execute_result"
    }
   ],
   "source": [
    "data.head()"
   ]
  },
  {
   "cell_type": "code",
   "execution_count": 5,
   "id": "a1966c4c",
   "metadata": {},
   "outputs": [
    {
     "name": "stdout",
     "output_type": "stream",
     "text": [
      "<class 'pandas.core.frame.DataFrame'>\n",
      "RangeIndex: 1035650 entries, 1 to 1035650\n",
      "Data columns (total 2 columns):\n",
      " #   Column  Non-Null Count    Dtype \n",
      "---  ------  --------------    ----- \n",
      " 0   Date    1035650 non-null  object\n",
      " 1   News    1035650 non-null  object\n",
      "dtypes: object(2)\n",
      "memory usage: 15.8+ MB\n"
     ]
    }
   ],
   "source": [
    "data.drop(0, inplace=True)\n",
    "data.drop('Category', axis = 1, inplace=True)\n",
    "data.info()"
   ]
  },
  {
   "cell_type": "code",
   "execution_count": 6,
   "id": "8776f163",
   "metadata": {},
   "outputs": [
    {
     "data": {
      "text/html": [
       "<div>\n",
       "<style scoped>\n",
       "    .dataframe tbody tr th:only-of-type {\n",
       "        vertical-align: middle;\n",
       "    }\n",
       "\n",
       "    .dataframe tbody tr th {\n",
       "        vertical-align: top;\n",
       "    }\n",
       "\n",
       "    .dataframe thead th {\n",
       "        text-align: right;\n",
       "    }\n",
       "</style>\n",
       "<table border=\"1\" class=\"dataframe\">\n",
       "  <thead>\n",
       "    <tr style=\"text-align: right;\">\n",
       "      <th></th>\n",
       "      <th>Date</th>\n",
       "      <th>News</th>\n",
       "    </tr>\n",
       "  </thead>\n",
       "  <tbody>\n",
       "    <tr>\n",
       "      <th>1</th>\n",
       "      <td>2001-07-20</td>\n",
       "      <td>Adulterated oil seized; three held</td>\n",
       "    </tr>\n",
       "    <tr>\n",
       "      <th>2</th>\n",
       "      <td>2001-07-20</td>\n",
       "      <td>Chicken lickin' delicious</td>\n",
       "    </tr>\n",
       "    <tr>\n",
       "      <th>3</th>\n",
       "      <td>2001-07-20</td>\n",
       "      <td>Silver corridor faces hazy future</td>\n",
       "    </tr>\n",
       "    <tr>\n",
       "      <th>4</th>\n",
       "      <td>2001-07-20</td>\n",
       "      <td>Centre okays six power projects for state</td>\n",
       "    </tr>\n",
       "    <tr>\n",
       "      <th>5</th>\n",
       "      <td>2001-07-20</td>\n",
       "      <td>Undertrials benefit from court-in-jail experiment</td>\n",
       "    </tr>\n",
       "    <tr>\n",
       "      <th>...</th>\n",
       "      <td>...</td>\n",
       "      <td>...</td>\n",
       "    </tr>\n",
       "    <tr>\n",
       "      <th>1035646</th>\n",
       "      <td>2011-01-23</td>\n",
       "      <td>Police recover 100 'improper' SIMs</td>\n",
       "    </tr>\n",
       "    <tr>\n",
       "      <th>1035647</th>\n",
       "      <td>2011-01-23</td>\n",
       "      <td>5 new KGBVs for Lucknow</td>\n",
       "    </tr>\n",
       "    <tr>\n",
       "      <th>1035648</th>\n",
       "      <td>2011-01-23</td>\n",
       "      <td>70% can't afford sanitary napkins; reveals study</td>\n",
       "    </tr>\n",
       "    <tr>\n",
       "      <th>1035649</th>\n",
       "      <td>2011-01-23</td>\n",
       "      <td>Cops ask internet cafe; PCO owners to be more ...</td>\n",
       "    </tr>\n",
       "    <tr>\n",
       "      <th>1035650</th>\n",
       "      <td>2011-01-23</td>\n",
       "      <td>Police to peon: Crowd control a joint venture</td>\n",
       "    </tr>\n",
       "  </tbody>\n",
       "</table>\n",
       "<p>1035650 rows × 2 columns</p>\n",
       "</div>"
      ],
      "text/plain": [
       "              Date                                               News\n",
       "1       2001-07-20                 Adulterated oil seized; three held\n",
       "2       2001-07-20                          Chicken lickin' delicious\n",
       "3       2001-07-20                  Silver corridor faces hazy future\n",
       "4       2001-07-20          Centre okays six power projects for state\n",
       "5       2001-07-20  Undertrials benefit from court-in-jail experiment\n",
       "...            ...                                                ...\n",
       "1035646 2011-01-23                 Police recover 100 'improper' SIMs\n",
       "1035647 2011-01-23                            5 new KGBVs for Lucknow\n",
       "1035648 2011-01-23   70% can't afford sanitary napkins; reveals study\n",
       "1035649 2011-01-23  Cops ask internet cafe; PCO owners to be more ...\n",
       "1035650 2011-01-23      Police to peon: Crowd control a joint venture\n",
       "\n",
       "[1035650 rows x 2 columns]"
      ]
     },
     "execution_count": 6,
     "metadata": {},
     "output_type": "execute_result"
    }
   ],
   "source": [
    " #Converting data type of Date column \n",
    " data['Date'] = pd.to_datetime(data['Date'],format= '%Y%m%d')\n",
    " data"
   ]
  },
  {
   "cell_type": "code",
   "execution_count": 7,
   "id": "ba7e05d1",
   "metadata": {},
   "outputs": [
    {
     "data": {
      "text/html": [
       "<div>\n",
       "<style scoped>\n",
       "    .dataframe tbody tr th:only-of-type {\n",
       "        vertical-align: middle;\n",
       "    }\n",
       "\n",
       "    .dataframe tbody tr th {\n",
       "        vertical-align: top;\n",
       "    }\n",
       "\n",
       "    .dataframe thead th {\n",
       "        text-align: right;\n",
       "    }\n",
       "</style>\n",
       "<table border=\"1\" class=\"dataframe\">\n",
       "  <thead>\n",
       "    <tr style=\"text-align: right;\">\n",
       "      <th></th>\n",
       "      <th>Date</th>\n",
       "      <th>News</th>\n",
       "    </tr>\n",
       "  </thead>\n",
       "  <tbody>\n",
       "    <tr>\n",
       "      <th>0</th>\n",
       "      <td>2001-07-20</td>\n",
       "      <td>Adulterated oil seized; three held Chicken lic...</td>\n",
       "    </tr>\n",
       "    <tr>\n",
       "      <th>1</th>\n",
       "      <td>2001-07-21</td>\n",
       "      <td>Indian batsmen look for redemption Stop scorin...</td>\n",
       "    </tr>\n",
       "    <tr>\n",
       "      <th>2</th>\n",
       "      <td>2001-07-22</td>\n",
       "      <td>People's Front braces to slam Govt Lodge FIR a...</td>\n",
       "    </tr>\n",
       "    <tr>\n",
       "      <th>3</th>\n",
       "      <td>2001-07-23</td>\n",
       "      <td>BSP focuses on Punjab; UP issues for polls Con...</td>\n",
       "    </tr>\n",
       "    <tr>\n",
       "      <th>4</th>\n",
       "      <td>2001-07-24</td>\n",
       "      <td>Wrong timing: Hike in fee for medical; dental ...</td>\n",
       "    </tr>\n",
       "    <tr>\n",
       "      <th>...</th>\n",
       "      <td>...</td>\n",
       "      <td>...</td>\n",
       "    </tr>\n",
       "    <tr>\n",
       "      <th>3464</th>\n",
       "      <td>2011-01-18</td>\n",
       "      <td>Top sex mistakes men make No alcohol for 6-pac...</td>\n",
       "    </tr>\n",
       "    <tr>\n",
       "      <th>3465</th>\n",
       "      <td>2011-01-19</td>\n",
       "      <td>My ex doesn't want me: Pratik Saali is not a g...</td>\n",
       "    </tr>\n",
       "    <tr>\n",
       "      <th>3466</th>\n",
       "      <td>2011-01-20</td>\n",
       "      <td>Neetu Chandra denies going panty-less! Aishwar...</td>\n",
       "    </tr>\n",
       "    <tr>\n",
       "      <th>3467</th>\n",
       "      <td>2011-01-22</td>\n",
       "      <td>Paddy procurement stops for want of empty sack...</td>\n",
       "    </tr>\n",
       "    <tr>\n",
       "      <th>3468</th>\n",
       "      <td>2011-01-23</td>\n",
       "      <td>Delhi Daredevils Mumbai Indians Chennai Super ...</td>\n",
       "    </tr>\n",
       "  </tbody>\n",
       "</table>\n",
       "<p>3469 rows × 2 columns</p>\n",
       "</div>"
      ],
      "text/plain": [
       "           Date                                               News\n",
       "0    2001-07-20  Adulterated oil seized; three held Chicken lic...\n",
       "1    2001-07-21  Indian batsmen look for redemption Stop scorin...\n",
       "2    2001-07-22  People's Front braces to slam Govt Lodge FIR a...\n",
       "3    2001-07-23  BSP focuses on Punjab; UP issues for polls Con...\n",
       "4    2001-07-24  Wrong timing: Hike in fee for medical; dental ...\n",
       "...         ...                                                ...\n",
       "3464 2011-01-18  Top sex mistakes men make No alcohol for 6-pac...\n",
       "3465 2011-01-19  My ex doesn't want me: Pratik Saali is not a g...\n",
       "3466 2011-01-20  Neetu Chandra denies going panty-less! Aishwar...\n",
       "3467 2011-01-22  Paddy procurement stops for want of empty sack...\n",
       "3468 2011-01-23  Delhi Daredevils Mumbai Indians Chennai Super ...\n",
       "\n",
       "[3469 rows x 2 columns]"
      ]
     },
     "execution_count": 7,
     "metadata": {},
     "output_type": "execute_result"
    }
   ],
   "source": [
    "#Grouping the headlines for each day\n",
    "data['News'] = data.groupby(['Date']).transform(lambda x : ' '.join(x)) \n",
    "data = data.drop_duplicates() \n",
    "data.reset_index(inplace = True, drop = True)\n",
    "data"
   ]
  },
  {
   "cell_type": "code",
   "execution_count": 8,
   "id": "9815967d",
   "metadata": {},
   "outputs": [
    {
     "data": {
      "text/plain": [
       "0       Adulterated oil seized; three held Chicken lic...\n",
       "1       Indian batsmen look for redemption Stop scorin...\n",
       "2       People's Front braces to slam Govt Lodge FIR a...\n",
       "3       BSP focuses on Punjab; UP issues for polls Con...\n",
       "4       Wrong timing: Hike in fee for medical; dental ...\n",
       "                              ...                        \n",
       "3464    Top sex mistakes men make No alcohol for 6-pac...\n",
       "3465    My ex doesn't want me: Pratik Saali is not a g...\n",
       "3466    Neetu Chandra denies going panty-less! Aishwar...\n",
       "3467    Paddy procurement stops for want of empty sack...\n",
       "3468    Delhi Daredevils Mumbai Indians Chennai Super ...\n",
       "Name: News, Length: 3469, dtype: object"
      ]
     },
     "execution_count": 8,
     "metadata": {},
     "output_type": "execute_result"
    }
   ],
   "source": [
    "data['News']"
   ]
  },
  {
   "cell_type": "code",
   "execution_count": null,
   "id": "ee7f8dfe",
   "metadata": {},
   "outputs": [],
   "source": [
    "#Cleaning headlines\n",
    "c = []\n",
    "for i in range(0,len(data['News'])):\n",
    "    news = re.sub('[^a-zA-Z]',' ',data['News'][i])\n",
    "    news = news.lower()\n",
    "    news = news.split()\n",
    "    ps =PorterStemmer()\n",
    "    news = [ps.stem(word) for word in news if not word in set(stopwords.words('english'))]\n",
    "    news=' '.join(news)\n",
    "    c.append(news)"
   ]
  },
  {
   "cell_type": "code",
   "execution_count": null,
   "id": "f69e5cec",
   "metadata": {},
   "outputs": [],
   "source": [
    "data['News'] = pd.Series(c)\n",
    "data"
   ]
  },
  {
   "cell_type": "code",
   "execution_count": null,
   "id": "780e4a75",
   "metadata": {},
   "outputs": [],
   "source": [
    "# WordCloud\n",
    "from wordcloud import WordCloud\n",
    "allWords = ' '.join( [cmts for cmts in data['News']])\n",
    "wordCloud = WordCloud(width = 500, height = 300, random_state = 21, max_font_size = 119).generate(allWords)\n",
    "\n",
    "plt.imshow(wordCloud, interpolation= 'bilinear')\n",
    "plt.axis('off')\n",
    "plt.show"
   ]
  },
  {
   "cell_type": "code",
   "execution_count": null,
   "id": "5a112b6a",
   "metadata": {},
   "outputs": [],
   "source": [
    "#Functions to get the subjectivity and polarity\n",
    "def getSubjectivity(text):\n",
    "  return TextBlob(text).sentiment.subjectivity\n",
    "\n",
    "def getPolarity(text):\n",
    "  return  TextBlob(text).sentiment.polarity\n",
    "#Adding subjectivity and polarity columns\n",
    "data['Subjectivity'] = data['News'].apply(getSubjectivity)\n",
    "data['Polarity'] = data['News'].apply(getPolarity)\n",
    "data"
   ]
  },
  {
   "cell_type": "code",
   "execution_count": null,
   "id": "ac797225",
   "metadata": {},
   "outputs": [],
   "source": [
    "plt.figure(figsize = (10,6))\n",
    "data['Polarity'].hist(color = 'blue')"
   ]
  },
  {
   "cell_type": "code",
   "execution_count": null,
   "id": "61f8af9f",
   "metadata": {},
   "outputs": [],
   "source": [
    "plt.figure(figsize = (10,6))\n",
    "data['Subjectivity'].hist(color = 'blue')"
   ]
  },
  {
   "cell_type": "code",
   "execution_count": null,
   "id": "6103a0b3",
   "metadata": {},
   "outputs": [],
   "source": [
    "#Adding sentiment score to dataset\n",
    "sentiment = SentimentIntensityAnalyzer()\n",
    "\n",
    "data['Compound'] = [sentiment.polarity_scores(v)['compound'] for v in data['News']]\n",
    "data['Negative'] = [sentiment.polarity_scores(v)['neg'] for v in data['News']]\n",
    "data['Neutral'] = [sentiment.polarity_scores(v)['neu'] for v in data['News']]\n",
    "data['Positive'] = [sentiment.polarity_scores(v)['pos'] for v in data['News']]\n",
    "data\n"
   ]
  },
  {
   "cell_type": "code",
   "execution_count": null,
   "id": "be9ddf35",
   "metadata": {},
   "outputs": [],
   "source": [
    "data = pd.to_csv('news')"
   ]
  },
  {
   "cell_type": "code",
   "execution_count": null,
   "id": "9864a35d",
   "metadata": {},
   "outputs": [],
   "source": []
  }
 ],
 "metadata": {
  "kernelspec": {
   "display_name": "Python 3 (ipykernel)",
   "language": "python",
   "name": "python3"
  },
  "language_info": {
   "codemirror_mode": {
    "name": "ipython",
    "version": 3
   },
   "file_extension": ".py",
   "mimetype": "text/x-python",
   "name": "python",
   "nbconvert_exporter": "python",
   "pygments_lexer": "ipython3",
   "version": "3.10.5"
  }
 },
 "nbformat": 4,
 "nbformat_minor": 5
}
